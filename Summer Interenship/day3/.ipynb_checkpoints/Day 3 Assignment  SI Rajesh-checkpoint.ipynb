{
 "cells": [
  {
   "cell_type": "markdown",
   "metadata": {},
   "source": [
    "Create a program to make a list of 10 integers . find the largest and smallest no. in the list."
   ]
  },
  {
   "cell_type": "code",
   "execution_count": 4,
   "metadata": {},
   "outputs": [
    {
     "name": "stdout",
     "output_type": "stream",
     "text": [
      "How many numbers: 10\n",
      "Enter number 45\n",
      "Maximum element in the list is : 45 \n",
      "Minimum element in the list is : 45\n",
      "Enter number 23\n",
      "Maximum element in the list is : 45 \n",
      "Minimum element in the list is : 23\n",
      "Enter number 876\n",
      "Maximum element in the list is : 876 \n",
      "Minimum element in the list is : 23\n",
      "Enter number 875\n",
      "Maximum element in the list is : 876 \n",
      "Minimum element in the list is : 23\n",
      "Enter number 654\n",
      "Maximum element in the list is : 876 \n",
      "Minimum element in the list is : 23\n",
      "Enter number 34\n",
      "Maximum element in the list is : 876 \n",
      "Minimum element in the list is : 23\n",
      "Enter number 45\n",
      "Maximum element in the list is : 876 \n",
      "Minimum element in the list is : 23\n",
      "Enter number 987\n",
      "Maximum element in the list is : 987 \n",
      "Minimum element in the list is : 23\n",
      "Enter number 322\n",
      "Maximum element in the list is : 987 \n",
      "Minimum element in the list is : 23\n",
      "Enter number 32\n",
      "Maximum element in the list is : 987 \n",
      "Minimum element in the list is : 23\n"
     ]
    }
   ],
   "source": [
    "list = []\n",
    "num = int(input('How many numbers: '))\n",
    "for n in range(num):\n",
    "    numbers = int(input('Enter number '))\n",
    "    list.append(numbers)\n",
    "    print(\"Maximum element in the list is :\", max(list), \"\\nMinimum element in the list is :\", min(list))"
   ]
  },
  {
   "cell_type": "markdown",
   "metadata": {},
   "source": []
  },
  {
   "cell_type": "code",
   "execution_count": null,
   "metadata": {},
   "outputs": [],
   "source": []
  }
 ],
 "metadata": {
  "kernelspec": {
   "display_name": "Python 3",
   "language": "python",
   "name": "python3"
  },
  "language_info": {
   "codemirror_mode": {
    "name": "ipython",
    "version": 3
   },
   "file_extension": ".py",
   "mimetype": "text/x-python",
   "name": "python",
   "nbconvert_exporter": "python",
   "pygments_lexer": "ipython3",
   "version": "3.8.5"
  }
 },
 "nbformat": 4,
 "nbformat_minor": 4
}
