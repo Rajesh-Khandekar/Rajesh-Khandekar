{
 "cells": [
  {
   "cell_type": "code",
   "execution_count": 8,
   "metadata": {},
   "outputs": [
    {
     "name": "stdout",
     "output_type": "stream",
     "text": [
      "Enter a Number \n",
      "1729\n",
      "Magic number\n"
     ]
    }
   ],
   "source": [
    "import math\n",
    "\n",
    "num = int(input(\"Enter a Number \\n\"))\n",
    "digitCount = int(math.log10(num))+1\n",
    "sumOfDigits = 0\n",
    "\n",
    "temp = num #copying num\n",
    "\n",
    "#calculating sum of digits of temp(i.e num) until\n",
    "#sumOfDigits is a single digit\n",
    "while( digitCount > 1):\n",
    "\n",
    "  sumOfDigits = 0\n",
    "\n",
    "  while(temp > 0):\n",
    "    sumOfDigits += temp%10\n",
    "    temp = temp//10\n",
    "\n",
    "  temp = sumOfDigits\n",
    "  #count the digits of sumOfDigits\n",
    "  digitCount = int(math.log10(sumOfDigits))+1\n",
    "   \n",
    "\n",
    "#check whether sumOfDigits == 1\n",
    "if(sumOfDigits == 1):\n",
    "    print(\"Magic number\")\n",
    "else:\n",
    "    print(\"Not a magic number\")"
   ]
  },
  {
   "cell_type": "code",
   "execution_count": null,
   "metadata": {},
   "outputs": [],
   "source": []
  },
  {
   "cell_type": "code",
   "execution_count": null,
   "metadata": {},
   "outputs": [],
   "source": []
  }
 ],
 "metadata": {
  "kernelspec": {
   "display_name": "Python 3",
   "language": "python",
   "name": "python3"
  },
  "language_info": {
   "codemirror_mode": {
    "name": "ipython",
    "version": 3
   },
   "file_extension": ".py",
   "mimetype": "text/x-python",
   "name": "python",
   "nbconvert_exporter": "python",
   "pygments_lexer": "ipython3",
   "version": "3.8.5"
  }
 },
 "nbformat": 4,
 "nbformat_minor": 4
}
