{
 "cells": [
  {
   "cell_type": "code",
   "execution_count": 1,
   "metadata": {},
   "outputs": [],
   "source": [
    "def main():\n",
    "    body_mass_index()\n",
    "    \n",
    "\n",
    "#define variables\n",
    "get_height = 0.0\n",
    "get_weight = 0.0\n",
    "BMI= 0.0\n",
    "Healthy =['Eggs', 'Olives', 'Dairy', 'Meat',]\n",
    "Unhealthy =['chocolate','pizza', 'ice cream']"
   ]
  },
  {
   "cell_type": "code",
   "execution_count": 2,
   "metadata": {},
   "outputs": [],
   "source": [
    "#height = float(input(\"Input your height in Feet: \"))\n",
    "#weight = float(input(\"Input your weight in Kilogram: \"))\n",
    "#print(\"Your body mass index is: \", round(weight / (height * height), 2))\n"
   ]
  },
  {
   "cell_type": "code",
   "execution_count": 3,
   "metadata": {},
   "outputs": [
    {
     "name": "stdout",
     "output_type": "stream",
     "text": [
      "Enter your height in cm: 161.54\n",
      "Enter your weight in kg: 42\n",
      "You BMI is 16.09493152365398\n"
     ]
    }
   ],
   "source": [
    "height = float(input(\"Enter your height in cm: \"))\n",
    "weight = float(input(\"Enter your weight in kg: \"))\n",
    "\n",
    "BMI = weight / (height/100)**2\n",
    "print(f\"You BMI is {BMI}\")\n"
   ]
  },
  {
   "cell_type": "code",
   "execution_count": 4,
   "metadata": {},
   "outputs": [
    {
     "name": "stdout",
     "output_type": "stream",
     "text": [
      "A user with a BMI of 16.09493152365398 is underwieght \n",
      "you are underwight .You can eat whatever you want \n",
      "Unhealthy_food\n"
     ]
    }
   ],
   "source": [
    "if BMI < 18.5:\n",
    "    print(\"A user with a BMI of \" + str(BMI) + \" is underwieght \")\n",
    "    print(\"you are underwight .You can eat whatever you want \")\n",
    "    Unhealthy_food =Unhealthy[0:]\n",
    "    print(\"Unhealthy_food\")\n",
    "elif BMI < 24.9:\n",
    "    print(\"A user with a BMI of \" + str(BMI ) + \" is normal weight \")\n",
    "    print(\"You Are Perfectly Fit keep your diet as it is\")\n",
    "else:\n",
    "    print(\"A user with a BMI of \" + str(BMI ) + \" is overweight \")\n",
    "    print(\"You Are overweight . Try to Eat vegetables and healthy food \")\n",
    "    Healthy_food=Healthy[0:]\n",
    "    print(\"Healthy_food\")\n",
    "\n"
   ]
  },
  {
   "cell_type": "code",
   "execution_count": null,
   "metadata": {},
   "outputs": [],
   "source": []
  },
  {
   "cell_type": "code",
   "execution_count": null,
   "metadata": {},
   "outputs": [],
   "source": []
  }
 ],
 "metadata": {
  "kernelspec": {
   "display_name": "Python 3",
   "language": "python",
   "name": "python3"
  },
  "language_info": {
   "codemirror_mode": {
    "name": "ipython",
    "version": 3
   },
   "file_extension": ".py",
   "mimetype": "text/x-python",
   "name": "python",
   "nbconvert_exporter": "python",
   "pygments_lexer": "ipython3",
   "version": "3.8.5"
  }
 },
 "nbformat": 4,
 "nbformat_minor": 4
}
