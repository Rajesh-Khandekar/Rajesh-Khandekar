{
 "cells": [
  {
   "cell_type": "code",
   "execution_count": 1,
   "metadata": {},
   "outputs": [],
   "source": [
    "# Import Required Library\n",
    "from tkinter import *\n",
    "import datetime\n",
    "import time\n",
    "import winsound\n",
    "from threading import *"
   ]
  },
  {
   "cell_type": "code",
   "execution_count": 2,
   "metadata": {},
   "outputs": [],
   "source": [
    "# Create Object\n",
    "root = Tk()"
   ]
  },
  {
   "cell_type": "code",
   "execution_count": 3,
   "metadata": {},
   "outputs": [
    {
     "data": {
      "text/plain": [
       "''"
      ]
     },
     "execution_count": 3,
     "metadata": {},
     "output_type": "execute_result"
    }
   ],
   "source": [
    "# Set geometry\n",
    "root.geometry(\"400x200\")"
   ]
  },
  {
   "cell_type": "code",
   "execution_count": 4,
   "metadata": {},
   "outputs": [],
   "source": [
    "# Use Threading\n",
    "def Threading():\n",
    "    t1=Thread(target=alarm)\n",
    "    t1.start()\n",
    "  \n",
    "def alarm():\n",
    "    # Infintite Loop\n",
    "    while True:\n",
    "        # Set Alarm \n",
    "        set_alarm_time = f\"{hour.get()}:{minute.get()}:{second.get()}\"\n",
    "                # Wait for one seconds\n",
    "        time.sleep(1)\n",
    "        \n",
    "        # Get current time\n",
    "        current_time = datetime.datetime.now().strftime(\"%H:%M:%S\")\n",
    "        print(current_time,set_alarm_time)\n",
    "        \n",
    "         # Check whether set alarm is equal to current time or not\n",
    "        if current_time == set_alarm_time:\n",
    "            print(\"Time to Wake up\")\n",
    "            # Playing sound\n",
    "            winsound.PlaySound(\"sound.wav\",winsound.SND_ASYNC)"
   ]
  },
  {
   "cell_type": "code",
   "execution_count": null,
   "metadata": {},
   "outputs": [
    {
     "name": "stdout",
     "output_type": "stream",
     "text": [
      "23:24:28 23:25:00\n",
      "23:24:29 23:25:00\n",
      "23:24:30 23:25:00\n",
      "23:24:31 23:25:00\n",
      "23:24:32 23:25:00\n",
      "23:24:33 23:25:00\n",
      "23:24:34 23:25:00\n",
      "23:24:35 23:25:00\n",
      "23:24:36 23:25:00\n",
      "23:24:37 23:25:00\n",
      "23:24:38 23:25:00\n",
      "23:24:39 23:25:00\n",
      "23:24:40 23:25:00\n",
      "23:24:41 23:25:00\n",
      "23:24:42 23:25:00\n",
      "23:24:43 23:25:00\n",
      "23:24:44 23:25:00\n",
      "23:24:45 23:25:00\n",
      "23:24:46 23:25:00\n",
      "23:24:47 23:25:00\n",
      "23:24:48 23:25:00\n",
      "23:24:49 23:25:00\n",
      "23:24:50 23:25:00\n",
      "23:24:51 23:25:00\n",
      "23:24:52 23:25:00\n",
      "23:24:53 23:25:00\n",
      "23:24:54 23:25:00\n",
      "23:24:55 23:25:00\n",
      "23:24:56 23:25:00\n",
      "23:24:57 23:25:00\n",
      "23:24:58 23:25:00\n",
      "23:24:59 23:25:00\n",
      "23:25:00 23:25:00\n",
      "Time to Wake up\n",
      "23:25:01 23:25:00\n",
      "23:25:02 23:25:00\n",
      "23:25:03 23:25:00\n",
      "23:25:04 23:25:00\n"
     ]
    }
   ],
   "source": [
    "# Add Labels, Frame, Button, Optionmenus\n",
    "Label(root,text=\"Alarm Clock\",font=(\"Helvetica 20 bold\"),fg=\"red\").pack(pady=10)\n",
    "Label(root,text=\"Set Time\",font=(\"Helvetica 15 bold\")).pack()\n",
    "\n",
    "frame = Frame(root)\n",
    "frame.pack()\n",
    "  \n",
    "hour = StringVar(root)\n",
    "hours = ('00', '01', '02', '03', '04', '05', '06', '07',\n",
    "         '08', '09', '10', '11', '12', '13', '14', '15',\n",
    "         '16', '17', '18', '19', '20', '21', '22', '23', '24'\n",
    "        )\n",
    "hour.set(hours[0])\n",
    "\n",
    "hrs = OptionMenu(frame, hour, *hours)\n",
    "hrs.pack(side=LEFT)\n",
    "  \n",
    "minute = StringVar(root)\n",
    "minutes = ('00', '01', '02', '03', '04', '05', '06', '07',\n",
    "           '08', '09', '10', '11', '12', '13', '14', '15',\n",
    "           '16', '17', '18', '19', '20', '21', '22', '23',\n",
    "           '24', '25', '26', '27', '28', '29', '30', '31',\n",
    "           '32', '33', '34', '35', '36', '37', '38', '39',\n",
    "           '40', '41', '42', '43', '44', '45', '46', '47',\n",
    "           '48', '49', '50', '51', '52', '53', '54', '55',\n",
    "           '56', '57', '58', '59', '60')\n",
    "minute.set(minutes[0])\n",
    "  \n",
    "mins = OptionMenu(frame, minute, *minutes)\n",
    "mins.pack(side=LEFT)\n",
    "\n",
    "second = StringVar(root)\n",
    "seconds = ('00', '01', '02', '03', '04', '05', '06', '07',\n",
    "           '08', '09', '10', '11', '12', '13', '14', '15',\n",
    "           '16', '17', '18', '19', '20', '21', '22', '23',\n",
    "           '24', '25', '26', '27', '28', '29', '30', '31',\n",
    "           '32', '33', '34', '35', '36', '37', '38', '39',\n",
    "           '40', '41', '42', '43', '44', '45', '46', '47',\n",
    "           '48', '49', '50', '51', '52', '53', '54', '55',\n",
    "           '56', '57', '58', '59', '60')\n",
    "second.set(seconds[0])\n",
    "  \n",
    "secs = OptionMenu(frame, second, *seconds)\n",
    "secs.pack(side=LEFT)\n",
    "\n",
    "Button(root,text=\"Set Alarm\",font=(\"Helvetica 15\"),command=Threading).pack(pady=20)\n",
    "  \n",
    "# Execute Tkinter\n",
    "root.mainloop()"
   ]
  },
  {
   "cell_type": "code",
   "execution_count": null,
   "metadata": {},
   "outputs": [],
   "source": []
  }
 ],
 "metadata": {
  "kernelspec": {
   "display_name": "Python 3",
   "language": "python",
   "name": "python3"
  },
  "language_info": {
   "codemirror_mode": {
    "name": "ipython",
    "version": 3
   },
   "file_extension": ".py",
   "mimetype": "text/x-python",
   "name": "python",
   "nbconvert_exporter": "python",
   "pygments_lexer": "ipython3",
   "version": "3.8.5"
  }
 },
 "nbformat": 4,
 "nbformat_minor": 4
}
